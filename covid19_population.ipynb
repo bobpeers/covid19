{
 "cells": [
  {
   "cell_type": "markdown",
   "metadata": {},
   "source": [
    "# This Notebook scrapes Wikipedia for daily updates on new cases of Covid-19\n",
    "\n",
    "https://en.wikipedia.org/wiki/Template:2019%E2%80%9320_coronavirus_outbreak_data/WHO_situation_reports"
   ]
  },
  {
   "cell_type": "code",
   "execution_count": null,
   "metadata": {},
   "outputs": [],
   "source": [
    "import pandas as pd\n",
    "import numpy as np\n",
    "import datetime as dt\n",
    "df_list = []"
   ]
  },
  {
   "cell_type": "markdown",
   "metadata": {},
   "source": [
    "## Loop through the four tables and clean"
   ]
  },
  {
   "cell_type": "code",
   "execution_count": null,
   "metadata": {},
   "outputs": [],
   "source": [
    "for table in range(1, 6):\n",
    "    df = pd.read_html('https://en.wikipedia.org/wiki/Template:2019%E2%80%9320_coronavirus_outbreak_data/WHO_situation_reports')[table]\n",
    "    df = df.drop(range(0,5))\n",
    "    if table == 1:\n",
    "        df = df.drop([df.columns[-1],df.columns[-2]], axis='columns')\n",
    "        df = df.head(-2)\n",
    "    else:\n",
    "        df = df.head(-1)\n",
    "    df_list.append(df)"
   ]
  },
  {
   "cell_type": "markdown",
   "metadata": {},
   "source": [
    "## Concat dataframes and shape"
   ]
  },
  {
   "cell_type": "code",
   "execution_count": null,
   "metadata": {},
   "outputs": [],
   "source": [
    "df_tot = pd.concat([pd.melt(df, id_vars=['Date','First reported case']) for df in df_list])\n",
    "\n",
    "df_tot.rename(columns={'Date':'Country','variable':'Date', 'value':'Cases'}, inplace=True)\n",
    "\n",
    "df_tot['Cases'] = df_tot['Cases'].replace(to_replace ='\\[\\d+\\]', value = '', regex = True).fillna(0)\n",
    "\n",
    "df_tot['Cases'] = pd.to_numeric(df_tot['Cases'])\n",
    "\n",
    "df_tot['First reported case'] = df_tot['First reported case'].astype('datetime64[ns]')\n",
    "\n",
    "df_tot\n",
    "\n",
    "df_tot['Date'] = df_tot['Date'] + '-2020'\n",
    "\n",
    "df_tot['Date'] = df_tot['Date'].astype('datetime64[ns]')\n",
    "\n",
    "df_tot['Days from start'] = (df_tot['Date'] - df_tot['First reported case']).dt.days\n",
    "\n",
    "#view output\n",
    "df_tot"
   ]
  },
  {
   "cell_type": "markdown",
   "metadata": {},
   "source": [
    "## Load Country Populations from Wikipedia\n",
    "### https://en.wikipedia.org/wiki/List_of_countries_by_population_(United_Nations)"
   ]
  },
  {
   "cell_type": "code",
   "execution_count": null,
   "metadata": {},
   "outputs": [],
   "source": [
    "df_pop = pd.read_html('https://en.wikipedia.org/wiki/List_of_countries_by_population_(United_Nations)')[3]"
   ]
  },
  {
   "cell_type": "code",
   "execution_count": null,
   "metadata": {},
   "outputs": [],
   "source": [
    "df_pop['Country or area'] = df_pop['Country or area'].replace(to_replace ='\\[[a-z]\\]', value = '', regex = True).fillna(0)"
   ]
  },
  {
   "cell_type": "code",
   "execution_count": null,
   "metadata": {
    "scrolled": false
   },
   "outputs": [],
   "source": [
    "# country remappings\n",
    "cty_dict = { 'United States' : 'USA',\n",
    "            'United Arab Emirates' : 'UAE',\n",
    "            'Macau' : 'Macao',\n",
    "            'Czech Republic' : 'Czechia' ,\n",
    "            'United Kingdom' : 'UK',\n",
    "            'Guernsey and Jersey' : 'Jersey',\n",
    "            'DR Congo' : 'DRC',\n",
    "            'Ivory Coast' : 'Cote d\\'Ivoire' ,\n",
    "            'Réunion' : 'Reunion'\n",
    "            }\n",
    "\n",
    "df_pop['Country or area'] = df_pop['Country or area'].map(cty_dict).fillna(df_pop['Country or area'])"
   ]
  },
  {
   "cell_type": "code",
   "execution_count": null,
   "metadata": {},
   "outputs": [],
   "source": [
    "df_pop"
   ]
  },
  {
   "cell_type": "markdown",
   "metadata": {},
   "source": [
    "## Join to Virus Data"
   ]
  },
  {
   "cell_type": "code",
   "execution_count": null,
   "metadata": {},
   "outputs": [],
   "source": [
    "df_tot_pop = pd.merge(df_tot, df_pop, left_on='Country', right_on='Country or area', how='inner')"
   ]
  },
  {
   "cell_type": "code",
   "execution_count": null,
   "metadata": {},
   "outputs": [],
   "source": [
    "df_tot_pop"
   ]
  },
  {
   "cell_type": "markdown",
   "metadata": {},
   "source": [
    "## Find unmatched countries here (add to mapping)\n",
    "Currently only Saint Barthélemy and Saint Martin don't map as they lack population data"
   ]
  },
  {
   "cell_type": "code",
   "execution_count": null,
   "metadata": {},
   "outputs": [],
   "source": [
    "df_missing_country = pd.merge(df_tot, df_pop, left_on='Country', right_on='Country or area', how='left')"
   ]
  },
  {
   "cell_type": "code",
   "execution_count": null,
   "metadata": {
    "scrolled": true
   },
   "outputs": [],
   "source": [
    "pd.set_option('display.max_rows', 500)\n",
    "df_missing_country[df_missing_country['Country or area'].isnull()].Country.unique"
   ]
  },
  {
   "cell_type": "markdown",
   "metadata": {},
   "source": [
    "## Output to csv in current directory"
   ]
  },
  {
   "cell_type": "code",
   "execution_count": null,
   "metadata": {},
   "outputs": [],
   "source": [
    "df_tot_pop.to_csv(r'covid19.csv', sep=';', index = False)"
   ]
  }
 ],
 "metadata": {
  "kernelspec": {
   "display_name": "Python 3",
   "language": "python",
   "name": "python3"
  },
  "language_info": {
   "codemirror_mode": {
    "name": "ipython",
    "version": 3
   },
   "file_extension": ".py",
   "mimetype": "text/x-python",
   "name": "python",
   "nbconvert_exporter": "python",
   "pygments_lexer": "ipython3",
   "version": "3.7.6"
  }
 },
 "nbformat": 4,
 "nbformat_minor": 4
}
