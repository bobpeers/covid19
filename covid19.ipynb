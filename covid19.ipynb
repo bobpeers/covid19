{
 "cells": [
  {
   "cell_type": "markdown",
   "metadata": {},
   "source": [
    "# This Notebook scrapes the wikipedia page with daily updates on new cases or Covid-19"
   ]
  },
  {
   "cell_type": "code",
   "execution_count": null,
   "metadata": {},
   "outputs": [],
   "source": [
    "import pandas as pd\n",
    "import numpy as np\n",
    "import datetime as dt\n",
    "df_list = []"
   ]
  },
  {
   "cell_type": "markdown",
   "metadata": {},
   "source": [
    "## Loop through the four tables and clean"
   ]
  },
  {
   "cell_type": "code",
   "execution_count": null,
   "metadata": {},
   "outputs": [],
   "source": [
    "for table in range(1, 6):\n",
    "    df = pd.read_html('https://en.wikipedia.org/wiki/Template:2019%E2%80%9320_coronavirus_outbreak_data/WHO_situation_reports')[table]\n",
    "    df = df.drop(range(0,5))\n",
    "    if table == 1:\n",
    "        df = df.drop([df.columns[-1],df.columns[-2]], axis='columns')\n",
    "        df = df.head(-2)\n",
    "    else:\n",
    "        df = df.head(-1)\n",
    "    df_list.append(df)"
   ]
  },
  {
   "cell_type": "markdown",
   "metadata": {},
   "source": [
    "## Concat dataframes and shape"
   ]
  },
  {
   "cell_type": "code",
   "execution_count": null,
   "metadata": {},
   "outputs": [],
   "source": [
    "df_tot = pd.concat([pd.melt(df, id_vars=['Date','First reported case']) for df in df_list])\n",
    "\n",
    "df_tot.rename(columns={'Date':'Country','variable':'Date', 'value':'Cases'}, inplace=True)\n",
    "\n",
    "df_tot['Cases'] = df_tot['Cases'].replace(to_replace ='\\[\\d+\\]', value = '', regex = True).fillna(0)\n",
    "\n",
    "df_tot['Cases'] = pd.to_numeric(df_tot['Cases'])\n",
    "\n",
    "df_tot['First reported case'] = df_tot['First reported case'].astype('datetime64[ns]')\n",
    "\n",
    "df_tot\n",
    "\n",
    "df_tot['Date'] = df_tot['Date'] + '-2020'\n",
    "\n",
    "df_tot['Date'] = df_tot['Date'].astype('datetime64[ns]')\n",
    "\n",
    "df_tot['Days from start'] = (df_tot['Date'] - df_tot['First reported case']).dt.days\n",
    "\n",
    "#view output\n",
    "df_tot"
   ]
  },
  {
   "cell_type": "markdown",
   "metadata": {},
   "source": [
    "## Output to csv in current directory"
   ]
  },
  {
   "cell_type": "code",
   "execution_count": null,
   "metadata": {},
   "outputs": [],
   "source": [
    "df_tot.to_csv(r'covid19.csv', sep=';', index = False)"
   ]
  }
 ],
 "metadata": {
  "kernelspec": {
   "display_name": "Python 3",
   "language": "python",
   "name": "python3"
  },
  "language_info": {
   "codemirror_mode": {
    "name": "ipython",
    "version": 3
   },
   "file_extension": ".py",
   "mimetype": "text/x-python",
   "name": "python",
   "nbconvert_exporter": "python",
   "pygments_lexer": "ipython3",
   "version": "3.7.6"
  }
 },
 "nbformat": 4,
 "nbformat_minor": 4
}
